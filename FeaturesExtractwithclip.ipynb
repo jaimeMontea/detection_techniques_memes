{
 "cells": [
  {
   "cell_type": "code",
   "execution_count": 1,
   "metadata": {},
   "outputs": [],
   "source": [
    "import torch\n",
    "import clip\n",
    "from PIL import Image\n",
    "import requests\n",
    "from utils import extractData\n",
    "\n",
    "\n",
    "device = \"cuda\" if torch.cuda.is_available() else \"cpu\"\n",
    "model, preprocess = clip.load(\"ViT-B/32\", device=device)\n",
    "\n"
   ]
  },
  {
   "cell_type": "code",
   "execution_count": 2,
   "metadata": {},
   "outputs": [],
   "source": [
    "# Get all data for task 2a, dev data\n",
    "json_path = \"./data/subtask2a/dev_unlabeled.json\"\n",
    "images_path = \"./data/dev_images\"\n",
    "\n",
    "\n",
    "df,images,_ = extractData(json_path,images_path=images_path)\n"
   ]
  },
  {
   "cell_type": "code",
   "execution_count": 6,
   "metadata": {},
   "outputs": [
    {
     "name": "stderr",
     "output_type": "stream",
     "text": [
      "/tmp/ipykernel_5239/1916754795.py:5: FutureWarning: Series.__getitem__ treating keys as positions is deprecated. In a future version, integer keys will always be treated as labels (consistent with DataFrame behavior). To access a value by position, use `ser.iloc[pos]`\n",
      "  text=row[1][0]\n",
      "/tmp/ipykernel_5239/1916754795.py:6: FutureWarning: Series.__getitem__ treating keys as positions is deprecated. In a future version, integer keys will always be treated as labels (consistent with DataFrame behavior). To access a value by position, use `ser.iloc[pos]`\n",
      "  current_id = row[1][1]\n"
     ]
    }
   ],
   "source": [
    "count = 0\n",
    "text_features = {}\n",
    "image_features = {}\n",
    "for row in df.iterrows():\n",
    "    text=row[1][0]\n",
    "    current_id = row[1][1]\n",
    "    if(type(text) != type(\"string\")):\n",
    "        text = \"\"\n",
    "    text = text.replace(\"\\n\",\" \")\n",
    "    tfeats = model.encode_text(clip.tokenize(text,truncate=True).to(device))\n",
    "    text_features[current_id] = tfeats.cpu().detach()\n",
    "    current_image = preprocess(images[current_id]).unsqueeze(0).to(device)  \n",
    "    image_features[current_id] = model.encode_image(current_image).cpu().detach()\n"
   ]
  },
  {
   "cell_type": "code",
   "execution_count": 9,
   "metadata": {},
   "outputs": [],
   "source": [
    "import pickle\n",
    "path_save = 'features2a_dev.pickle'\n",
    "with open('text_'+path_save, 'wb') as handle:\n",
    "    pickle.dump(text_features, handle)\n",
    "    \n",
    "with open('image_'+path_save, 'wb') as handle:\n",
    "    pickle.dump(image_features, handle)\n"
   ]
  },
  {
   "cell_type": "code",
   "execution_count": 42,
   "metadata": {},
   "outputs": [],
   "source": [
    "with open('text_features2a_dev.pickle', 'rb') as handle:\n",
    "    b = pickle.load(handle)\n"
   ]
  }
 ],
 "metadata": {
  "kernelspec": {
   "display_name": "Python 3",
   "language": "python",
   "name": "python3"
  },
  "language_info": {
   "codemirror_mode": {
    "name": "ipython",
    "version": 3
   },
   "file_extension": ".py",
   "mimetype": "text/x-python",
   "name": "python",
   "nbconvert_exporter": "python",
   "pygments_lexer": "ipython3",
   "version": "3.10.12"
  }
 },
 "nbformat": 4,
 "nbformat_minor": 2
}
