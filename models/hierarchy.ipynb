{
 "cells": [
  {
   "cell_type": "code",
   "execution_count": 13,
   "metadata": {},
   "outputs": [],
   "source": [
    "import torch\n",
    "from transformers import RobertaForSequenceClassification, RobertaTokenizer\n",
    "from torch.utils.data import DataLoader, TensorDataset\n",
    "import json\n",
    "import pdb\n",
    "import logging.handlers\n",
    "import argparse\n",
    "import os\n",
    "import numpy as np\n",
    "from sklearn.metrics import f1_score\n",
    "from sklearn.preprocessing import MultiLabelBinarizer\n",
    "from networkx import DiGraph, relabel_nodes, all_pairs_shortest_path_length\n",
    "from sklearn_hierarchical_classification.constants import ROOT\n",
    "from sklearn_hierarchical_classification.metrics import h_fbeta_score, h_recall_score, h_precision_score, fill_ancestors, multi_labeled\n",
    "from sklearn.model_selection import train_test_split\n",
    "from sklearn.metrics import accuracy_score, classification_report\n",
    "import pandas as pd\n",
    "import torch\n",
    "from torch.utils.data import Dataset, DataLoader\n",
    "from transformers import RobertaTokenizer, RobertaForSequenceClassification\n",
    "from tqdm import tqdm\n",
    "from ordered_set import OrderedSet"
   ]
  },
  {
   "cell_type": "code",
   "execution_count": 14,
   "metadata": {},
   "outputs": [],
   "source": [
    "import json\n",
    "\n",
    "# 文件路径\n",
    "file_paths = ['train.json', 'validation.json','dev_subtask1_en.json']\n",
    "\n",
    "# 读取数据\n",
    "merged_data = []\n",
    "\n",
    "for file_path in file_paths:\n",
    "    with open(file_path, 'r', encoding='utf-8') as file:  # 指定文件编码\n",
    "        data = json.load(file)\n",
    "        merged_data.extend(data)\n",
    "\n",
    "# 写入新的 JSON 文件\n",
    "with open('merged_file.json', 'w', encoding='utf-8') as merged_file:  # 指定写入文件编码为 UTF-8\n",
    "    json.dump(merged_data, merged_file, indent=2, ensure_ascii=False)\n"
   ]
  },
  {
   "cell_type": "code",
   "execution_count": 15,
   "metadata": {},
   "outputs": [],
   "source": [
    "file_path = 'merged_file.json'\n",
    "# Read the JSON file into a list of dictionaries\n",
    "with open(file_path, 'r', encoding='utf-8') as file:\n",
    "    data_train = json.load(file)\n",
    "\n",
    "rows = []\n",
    "possible_labels = OrderedSet(label for entry in data_train for label in entry['labels'])\n",
    "\n",
    "for entry in data_train:\n",
    "    id = entry['id']\n",
    "    text = entry['text']\n",
    "    labels = entry['labels']\n",
    "    row = {}\n",
    "    row['id'] = id\n",
    "    row['text'] = text\n",
    "\n",
    "    for label in possible_labels:\n",
    "        row[label] = int(label in labels)\n",
    "\n",
    "    rows.append(row)\n",
    "\n",
    "df = pd.DataFrame(rows)\n",
    "data_train = df\n",
    "\n",
    "# Check and replace NaN values\n",
    "for i in data_train.index:\n",
    "    if pd.isna(data_train[\"text\"][i]):\n",
    "        data_train[\"text\"][i] = \"\"\n",
    "\n",
    "\n"
   ]
  },
  {
   "cell_type": "code",
   "execution_count": 16,
   "metadata": {},
   "outputs": [],
   "source": [
    "file_path = 'en_subtask1_test_unlabeled.json'\n",
    "# Read the JSON file into a list of dictionaries\n",
    "with open(file_path, 'r', encoding='utf-8') as file:\n",
    "    data_validation = json.load(file)\n",
    "\n",
    "rows = []\n",
    "\n",
    "for entry in data_validation:\n",
    "    id = entry['id']\n",
    "    text = entry['text']\n",
    "    row = {}\n",
    "    row['id'] = id\n",
    "    row['text'] = text\n",
    "\n",
    "\n",
    "    rows.append(row)\n",
    "\n",
    "df = pd.DataFrame(rows)\n",
    "data_validation = df\n",
    "\n",
    "# Check and replace NaN values\n",
    "for i in data_validation.index:\n",
    "    if pd.isna(data_validation[\"text\"][i]):\n",
    "        data_validation[\"text\"][i] = \"\""
   ]
  },
  {
   "cell_type": "code",
   "execution_count": 17,
   "metadata": {},
   "outputs": [],
   "source": [
    "tokenizer = RobertaTokenizer.from_pretrained('roberta-base')\n",
    "train_encodings = tokenizer(list(data_train[\"text\"]), truncation=True, padding=True, return_tensors='pt')\n",
    "test_encodings = tokenizer(list(data_validation['text']), truncation=True, padding=True, return_tensors='pt')"
   ]
  },
  {
   "cell_type": "code",
   "execution_count": 18,
   "metadata": {},
   "outputs": [],
   "source": [
    "\n",
    "class CustomDataset(Dataset):\n",
    "    def __init__(self, encodings, labels=None):\n",
    "        self.encodings = encodings\n",
    "        self.labels = torch.tensor(labels.values, dtype=torch.float32) if labels is not None else None\n",
    "\n",
    "    def __getitem__(self, idx):\n",
    "        if self.labels is not None:\n",
    "            return {key: val[idx].to(device) for key, val in self.encodings.items()}, self.labels[idx].to(device)\n",
    "        else:\n",
    "            return {key: val[idx].to(device) for key, val in self.encodings.items()}\n",
    "\n",
    "    def __len__(self):\n",
    "        return len(self.labels) if self.labels is not None else len(self.encodings[\"input_ids\"])\n",
    "\n",
    "\n",
    "\n",
    "\n"
   ]
  },
  {
   "cell_type": "code",
   "execution_count": 19,
   "metadata": {},
   "outputs": [
    {
     "name": "stderr",
     "output_type": "stream",
     "text": [
      "Some weights of RobertaForSequenceClassification were not initialized from the model checkpoint at roberta-base and are newly initialized: ['classifier.out_proj.bias', 'classifier.dense.weight', 'classifier.out_proj.weight', 'classifier.dense.bias']\n",
      "You should probably TRAIN this model on a down-stream task to be able to use it for predictions and inference.\n"
     ]
    }
   ],
   "source": [
    "labels = sorted([col for col in data_train.columns if col not in [\"text\", \"id\"]])\n",
    "\n",
    "train_dataset = CustomDataset(train_encodings, data_train[labels])\n",
    "test_dataset = CustomDataset(test_encodings)\n",
    "\n",
    "\n",
    "train_loader = DataLoader(train_dataset, batch_size=2, shuffle=True)\n",
    "test_loader = DataLoader(test_dataset, batch_size=2, shuffle=False)\n",
    "\n",
    "\n",
    "device = torch.device(\"cuda\" if torch.cuda.is_available() else \"cpu\")\n",
    "model = RobertaForSequenceClassification.from_pretrained('roberta-base', num_labels=len(labels)).to(device)\n",
    "\n",
    "optimizer = torch.optim.AdamW(model.parameters(), lr=1e-5)\n",
    "criterion = torch.nn.BCEWithLogitsLoss()\n",
    "\n"
   ]
  },
  {
   "cell_type": "code",
   "execution_count": 20,
   "metadata": {},
   "outputs": [
    {
     "name": "stdout",
     "output_type": "stream",
     "text": [
      "['Appeal to authority', 'Appeal to fear/prejudice', 'Bandwagon', 'Black-and-white Fallacy/Dictatorship', 'Causal Oversimplification', 'Doubt', 'Exaggeration/Minimisation', 'Flag-waving', 'Glittering generalities (Virtue)', 'Loaded Language', \"Misrepresentation of Someone's Position (Straw Man)\", 'Name calling/Labeling', 'Obfuscation, Intentional vagueness, Confusion', 'Presenting Irrelevant Data (Red Herring)', 'Reductio ad hitlerum', 'Repetition', 'Slogans', 'Smears', 'Thought-terminating cliché', 'Whataboutism']\n"
     ]
    }
   ],
   "source": [
    "print(labels)"
   ]
  },
  {
   "cell_type": "code",
   "execution_count": 21,
   "metadata": {},
   "outputs": [],
   "source": [
    "from tqdm import tqdm\n",
    "import numpy as np\n",
    "from torch.utils.data import Dataset, DataLoader\n",
    "from networkx import DiGraph\n",
    "from torch import nn\n",
    "\n",
    "G = DiGraph()\n",
    "G.add_edge(ROOT, \"Logos\")\n",
    "G.add_edge(\"Logos\", \"Repetition\")\n",
    "G.add_edge(\"Logos\", \"Obfuscation, Intentional vagueness, Confusion\")\n",
    "G.add_edge(\"Logos\", \"Reasoning\")\n",
    "G.add_edge(\"Logos\", \"Justification\")\n",
    "G.add_edge('Justification', \"Slogans\")\n",
    "G.add_edge('Justification', \"Bandwagon\")\n",
    "G.add_edge('Justification', \"Appeal to authority\")\n",
    "G.add_edge('Justification', \"Flag-waving\")\n",
    "G.add_edge('Justification', \"Appeal to fear/prejudice\")\n",
    "G.add_edge('Reasoning', \"Simplification\")\n",
    "G.add_edge('Simplification', \"Causal Oversimplification\")\n",
    "G.add_edge('Simplification', \"Black-and-white Fallacy/Dictatorship\")\n",
    "G.add_edge('Simplification', \"Thought-terminating cliché\")\n",
    "G.add_edge('Reasoning', \"Distraction\")\n",
    "G.add_edge('Distraction', \"Misrepresentation of Someone's Position (Straw Man)\")\n",
    "G.add_edge('Distraction', \"Presenting Irrelevant Data (Red Herring)\")\n",
    "G.add_edge('Distraction', \"Whataboutism\")\n",
    "G.add_edge(ROOT, \"Ethos\")\n",
    "G.add_edge('Ethos', \"Appeal to authority\")\n",
    "G.add_edge('Ethos', \"Glittering generalities (Virtue)\")\n",
    "G.add_edge('Ethos', \"Bandwagon\")\n",
    "G.add_edge('Ethos', \"Ad Hominem\")\n",
    "G.add_edge('Ethos', \"Transfer\")\n",
    "G.add_edge('Ad Hominem', \"Doubt\")\n",
    "G.add_edge('Ad Hominem', \"Name calling/Labeling\")\n",
    "G.add_edge('Ad Hominem', \"Smears\")\n",
    "G.add_edge('Ad Hominem', \"Reductio ad hitlerum\")\n",
    "G.add_edge('Ad Hominem', \"Whataboutism\")\n",
    "G.add_edge(ROOT, \"Pathos\")\n",
    "G.add_edge('Pathos', \"Exaggeration/Minimisation\")\n",
    "G.add_edge('Pathos', \"Loaded Language\")\n",
    "G.add_edge('Pathos', \"Appeal to (Strong) Emotions\")\n",
    "G.add_edge('Pathos', \"Appeal to fear/prejudice\")\n",
    "G.add_edge('Pathos', \"Flag-waving\")\n",
    "G.add_edge('Pathos', \"Transfer\") "
   ]
  },
  {
   "cell_type": "code",
   "execution_count": 22,
   "metadata": {},
   "outputs": [],
   "source": [
    "class HierarchicalLoss(nn.Module):\n",
    "    def __init__(self, alpha=1.0):\n",
    "        super(HierarchicalLoss, self).__init__()\n",
    "        self.alpha = alpha\n",
    "\n",
    "    def forward(self, logits, labels, hierarchy):\n",
    "        loss = nn.BCEWithLogitsLoss()(logits, labels)\n",
    "\n",
    "        # Add hierarchical regularization\n",
    "        for i in range(labels.size(1)):\n",
    "            for j in range(labels.size(1)):\n",
    "                if i != j and hierarchy.has_node(i) and hierarchy.has_node(j) and nx.has_path(hierarchy, source=i, target=j):\n",
    "                    loss += self.alpha * torch.relu(logits[:, i] - logits[:, j])\n",
    "\n",
    "        return loss"
   ]
  },
  {
   "cell_type": "code",
   "execution_count": 23,
   "metadata": {},
   "outputs": [
    {
     "name": "stderr",
     "output_type": "stream",
     "text": [
      "100%|██████████| 4250/4250 [13:49<00:00,  5.12it/s]\n",
      "100%|██████████| 1/1 [13:51<00:00, 831.23s/it]\n"
     ]
    }
   ],
   "source": [
    "hierarchical_loss = HierarchicalLoss(alpha=0.1)\n",
    "num_epochs = 1\n",
    "model.to(device)\n",
    "\n",
    "thresholds = {'Appeal to authority':0.25, 'Appeal to fear/prejudice':0.126, 'Bandwagon':0.072, 'Black-and-white Fallacy/Dictatorship':0.23, \n",
    "             'Causal Oversimplification':0.104, 'Doubt':0.129, 'Exaggeration/Minimisation':0.131, 'Flag-waving':0.18, 'Glittering generalities (Virtue)':0.16, \n",
    "             'Loaded Language':0.45, \"Misrepresentation of Someone's Position (Straw Man)\":0.064, 'Name calling/Labeling':0.39, \n",
    "             'Obfuscation, Intentional vagueness, Confusion':0.05, 'Presenting Irrelevant Data (Red Herring)':0.063, \n",
    "             'Reductio ad hitlerum':0.0642, 'Repetition':0.119, 'Slogans':0.2, 'Smears':0.5, 'Thought-terminating cliché':0.17, 'Whataboutism':0.108}\n",
    "for epoch in tqdm(range(num_epochs)):\n",
    "    model.train()\n",
    "    for batch in tqdm(train_loader):\n",
    "        optimizer.zero_grad()\n",
    "        inputs, labels = batch\n",
    "        outputs = model(**inputs).logits\n",
    "        loss = hierarchical_loss(outputs, labels, G)\n",
    "        loss.backward()\n",
    "        optimizer.step()\n",
    "    torch.save(model, \"roberta_subtask1_epoch_\" + str(epoch) + \".pt\")\n",
    "\n"
   ]
  },
  {
   "cell_type": "code",
   "execution_count": 26,
   "metadata": {},
   "outputs": [],
   "source": [
    "model.eval()\n",
    "all_preds = []\n",
    "all_labels = []\n",
    "label_name = ['Appeal to authority', 'Appeal to fear/prejudice', 'Bandwagon', 'Black-and-white Fallacy/Dictatorship', \n",
    "             'Causal Oversimplification', 'Doubt', 'Exaggeration/Minimisation', 'Flag-waving', 'Glittering generalities (Virtue)', \n",
    "             'Loaded Language', \"Misrepresentation of Someone's Position (Straw Man)\", 'Name calling/Labeling', \n",
    "             'Obfuscation, Intentional vagueness, Confusion', 'Presenting Irrelevant Data (Red Herring)', \n",
    "             'Reductio ad hitlerum', 'Repetition', 'Slogans', 'Smears', 'Thought-terminating cliché','Whataboutism']\n",
    "with torch.no_grad():\n",
    "    for batch in test_loader:\n",
    "        inputs = batch\n",
    "        outputs = torch.sigmoid(model(**inputs).logits)\n",
    "        binary_preds = (outputs.cpu().numpy() > np.array([thresholds[label] for label in label_name])).astype(int)\n",
    "        all_preds.extend(binary_preds)\n",
    "\n"
   ]
  },
  {
   "cell_type": "code",
   "execution_count": 27,
   "metadata": {},
   "outputs": [],
   "source": [
    "output_list = []\n",
    "\n",
    "for i, entry in data_validation.iterrows():\n",
    "    entry_id = entry['id']\n",
    "    text = entry['text']\n",
    "    predicted_labels = [label for label, pred in zip(possible_labels, all_preds[i]) if pred == 1]\n",
    "\n",
    "    output_entry = {\n",
    "        \"id\": entry_id,\n",
    "        \"text\": text,\n",
    "        \"labels\": predicted_labels\n",
    "    }\n",
    "\n",
    "    output_list.append(output_entry)\n",
    "\n",
    "# Write the result to a JSON file\n",
    "output_file_path = 'predictions.json'\n",
    "with open(output_file_path, 'w', encoding='utf-8') as output_file:\n",
    "    json.dump(output_list, output_file, indent=2)\n"
   ]
  },
  {
   "cell_type": "code",
   "execution_count": null,
   "metadata": {},
   "outputs": [],
   "source": []
  }
 ],
 "metadata": {
  "kernelspec": {
   "display_name": "virtual",
   "language": "python",
   "name": "python3"
  },
  "language_info": {
   "codemirror_mode": {
    "name": "ipython",
    "version": 3
   },
   "file_extension": ".py",
   "mimetype": "text/x-python",
   "name": "python",
   "nbconvert_exporter": "python",
   "pygments_lexer": "ipython3",
   "version": "3.11.5"
  }
 },
 "nbformat": 4,
 "nbformat_minor": 2
}
